{
 "cells": [
  {
   "cell_type": "code",
   "execution_count": 2,
   "metadata": {
    "collapsed": true,
    "ExecuteTime": {
     "end_time": "2024-05-20T20:39:09.489263Z",
     "start_time": "2024-05-20T20:39:08.403969Z"
    }
   },
   "outputs": [],
   "source": [
    "import pandas as pd\n",
    "import numpy as np"
   ]
  },
  {
   "cell_type": "code",
   "execution_count": 3,
   "outputs": [
    {
     "name": "stderr",
     "output_type": "stream",
     "text": [
      "/Users/amirreza/opt/anaconda3/lib/python3.8/site-packages/IPython/core/interactiveshell.py:3508: DtypeWarning: Columns (6,7,9,10) have mixed types.Specify dtype option on import or set low_memory=False.\n",
      "  exec(code_obj, self.user_global_ns, self.user_ns)\n"
     ]
    }
   ],
   "source": [
    "# Load the stops.txt file\n",
    "stops = pd.read_csv('gtfs/stops.txt')\n",
    "\n",
    "# Filter stops that contain 'Maastricht' in the stop_name column\n",
    "maastricht_stops = stops[stops['stop_name'].str.contains('Maastricht', case=False, na=False)]"
   ],
   "metadata": {
    "collapsed": false,
    "ExecuteTime": {
     "end_time": "2024-05-20T20:39:09.706994Z",
     "start_time": "2024-05-20T20:39:09.491523Z"
    }
   }
  },
  {
   "cell_type": "code",
   "execution_count": 4,
   "outputs": [
    {
     "data": {
      "text/plain": "5962"
     },
     "execution_count": 4,
     "metadata": {},
     "output_type": "execute_result"
    }
   ],
   "source": [
    "maastricht_stops.size"
   ],
   "metadata": {
    "collapsed": false,
    "ExecuteTime": {
     "end_time": "2024-05-20T20:39:09.714285Z",
     "start_time": "2024-05-20T20:39:09.711156Z"
    }
   }
  },
  {
   "cell_type": "code",
   "execution_count": 5,
   "outputs": [
    {
     "data": {
      "text/plain": "     stop_id stop_code                       stop_name   stop_lat  stop_lon  \\\n114  2511615       NaN                      Maastricht  50.850684  5.704599   \n464  2485741     44161  Maastricht, Koningin Emmaplein  50.849292  5.678235   \n570  2511622       NaN                Maastricht Noord  50.870569  5.717505   \n613  2511621       NaN                Maastricht Noord  50.870627  5.717754   \n896  2511623       NaN                Maastricht Noord  50.871752  5.716623   \n\n     location_type  parent_station stop_timezone  wheelchair_boarding  \\\n114              0  stoparea:17969           NaN                  NaN   \n464              0             NaN           NaN                  0.0   \n570              0  stoparea:30382           NaN                  NaN   \n613              0  stoparea:30382           NaN                  NaN   \n896              0  stoparea:30382           NaN                  NaN   \n\n    platform_code  zone_id  \n114           NaN   IFF:mt  \n464           NaN      NaN  \n570             2  IFF:mtn  \n613             1  IFF:mtn  \n896           NaN  IFF:mtn  ",
      "text/html": "<div>\n<style scoped>\n    .dataframe tbody tr th:only-of-type {\n        vertical-align: middle;\n    }\n\n    .dataframe tbody tr th {\n        vertical-align: top;\n    }\n\n    .dataframe thead th {\n        text-align: right;\n    }\n</style>\n<table border=\"1\" class=\"dataframe\">\n  <thead>\n    <tr style=\"text-align: right;\">\n      <th></th>\n      <th>stop_id</th>\n      <th>stop_code</th>\n      <th>stop_name</th>\n      <th>stop_lat</th>\n      <th>stop_lon</th>\n      <th>location_type</th>\n      <th>parent_station</th>\n      <th>stop_timezone</th>\n      <th>wheelchair_boarding</th>\n      <th>platform_code</th>\n      <th>zone_id</th>\n    </tr>\n  </thead>\n  <tbody>\n    <tr>\n      <th>114</th>\n      <td>2511615</td>\n      <td>NaN</td>\n      <td>Maastricht</td>\n      <td>50.850684</td>\n      <td>5.704599</td>\n      <td>0</td>\n      <td>stoparea:17969</td>\n      <td>NaN</td>\n      <td>NaN</td>\n      <td>NaN</td>\n      <td>IFF:mt</td>\n    </tr>\n    <tr>\n      <th>464</th>\n      <td>2485741</td>\n      <td>44161</td>\n      <td>Maastricht, Koningin Emmaplein</td>\n      <td>50.849292</td>\n      <td>5.678235</td>\n      <td>0</td>\n      <td>NaN</td>\n      <td>NaN</td>\n      <td>0.0</td>\n      <td>NaN</td>\n      <td>NaN</td>\n    </tr>\n    <tr>\n      <th>570</th>\n      <td>2511622</td>\n      <td>NaN</td>\n      <td>Maastricht Noord</td>\n      <td>50.870569</td>\n      <td>5.717505</td>\n      <td>0</td>\n      <td>stoparea:30382</td>\n      <td>NaN</td>\n      <td>NaN</td>\n      <td>2</td>\n      <td>IFF:mtn</td>\n    </tr>\n    <tr>\n      <th>613</th>\n      <td>2511621</td>\n      <td>NaN</td>\n      <td>Maastricht Noord</td>\n      <td>50.870627</td>\n      <td>5.717754</td>\n      <td>0</td>\n      <td>stoparea:30382</td>\n      <td>NaN</td>\n      <td>NaN</td>\n      <td>1</td>\n      <td>IFF:mtn</td>\n    </tr>\n    <tr>\n      <th>896</th>\n      <td>2511623</td>\n      <td>NaN</td>\n      <td>Maastricht Noord</td>\n      <td>50.871752</td>\n      <td>5.716623</td>\n      <td>0</td>\n      <td>stoparea:30382</td>\n      <td>NaN</td>\n      <td>NaN</td>\n      <td>NaN</td>\n      <td>IFF:mtn</td>\n    </tr>\n  </tbody>\n</table>\n</div>"
     },
     "execution_count": 5,
     "metadata": {},
     "output_type": "execute_result"
    }
   ],
   "source": [
    "maastricht_stops.head()"
   ],
   "metadata": {
    "collapsed": false,
    "ExecuteTime": {
     "end_time": "2024-05-20T20:39:09.772816Z",
     "start_time": "2024-05-20T20:39:09.717245Z"
    }
   }
  },
  {
   "cell_type": "code",
   "execution_count": 6,
   "outputs": [
    {
     "name": "stderr",
     "output_type": "stream",
     "text": [
      "/Users/amirreza/opt/anaconda3/lib/python3.8/site-packages/IPython/core/interactiveshell.py:3508: DtypeWarning: Columns (3) have mixed types.Specify dtype option on import or set low_memory=False.\n",
      "  exec(code_obj, self.user_global_ns, self.user_ns)\n"
     ]
    },
    {
     "data": {
      "text/plain": "132065516"
     },
     "execution_count": 6,
     "metadata": {},
     "output_type": "execute_result"
    }
   ],
   "source": [
    "# Load the stop_times.txt file\n",
    "stop_times = pd.read_csv('gtfs/stop_times.txt')\n",
    "\n",
    "stop_times.size"
   ],
   "metadata": {
    "collapsed": false,
    "ExecuteTime": {
     "end_time": "2024-05-20T20:39:29.238870Z",
     "start_time": "2024-05-20T20:39:09.731352Z"
    }
   }
  },
  {
   "cell_type": "code",
   "execution_count": 7,
   "outputs": [
    {
     "name": "stdout",
     "output_type": "stream",
     "text": [
      "<class 'numpy.int64'>\n",
      "<class 'str'>\n"
     ]
    },
    {
     "name": "stderr",
     "output_type": "stream",
     "text": [
      "/var/folders/gm/402mq6k556n536hcj8xtmdkm0000gn/T/ipykernel_84149/3638554731.py:6: SettingWithCopyWarning: \n",
      "A value is trying to be set on a copy of a slice from a DataFrame.\n",
      "Try using .loc[row_indexer,col_indexer] = value instead\n",
      "\n",
      "See the caveats in the documentation: https://pandas.pydata.org/pandas-docs/stable/user_guide/indexing.html#returning-a-view-versus-a-copy\n",
      "  maastricht_stops['clean_stop_id'] = maastricht_stops['stop_id'].str.replace('stoparea:', '').astype(np.int64)\n"
     ]
    }
   ],
   "source": [
    "# Print the type for stop_id in stop_times and stop_id in maastricht_stops\n",
    "print(type(stop_times['stop_id'].iloc[0]))\n",
    "print(type(maastricht_stops['stop_id'].iloc[0]))\n",
    "\n",
    "#convert maastricht_stops['stop_id'] to numpy.int64(remove stoparea:)\n",
    "maastricht_stops['clean_stop_id'] = maastricht_stops['stop_id'].str.replace('stoparea:', '').astype(np.int64)\n",
    "\n",
    "# Keep the rows that contain a stop_id that is in the maastricht_stops dataframe by comparing the string values\n",
    "maastricht_stop_times = stop_times[stop_times['stop_id'].isin(maastricht_stops['clean_stop_id'])]"
   ],
   "metadata": {
    "collapsed": false,
    "ExecuteTime": {
     "end_time": "2024-05-20T20:39:29.732050Z",
     "start_time": "2024-05-20T20:39:29.261269Z"
    }
   }
  },
  {
   "cell_type": "code",
   "execution_count": 8,
   "outputs": [
    {
     "data": {
      "text/plain": "1161699"
     },
     "execution_count": 8,
     "metadata": {},
     "output_type": "execute_result"
    }
   ],
   "source": [
    "maastricht_stop_times.size"
   ],
   "metadata": {
    "collapsed": false,
    "ExecuteTime": {
     "end_time": "2024-05-20T20:39:29.742103Z",
     "start_time": "2024-05-20T20:39:29.734152Z"
    }
   }
  },
  {
   "cell_type": "code",
   "execution_count": 9,
   "outputs": [
    {
     "data": {
      "text/plain": "0.8796384061377537"
     },
     "execution_count": 9,
     "metadata": {},
     "output_type": "execute_result"
    }
   ],
   "source": [
    "100 * maastricht_stop_times.size / stop_times.size"
   ],
   "metadata": {
    "collapsed": false,
    "ExecuteTime": {
     "end_time": "2024-05-20T20:39:29.748277Z",
     "start_time": "2024-05-20T20:39:29.741137Z"
    }
   }
  },
  {
   "cell_type": "code",
   "execution_count": 10,
   "outputs": [
    {
     "name": "stdout",
     "output_type": "stream",
     "text": [
      "<class 'numpy.int64'>\n",
      "<class 'numpy.int64'>\n"
     ]
    }
   ],
   "source": [
    "# Load the trips.txt file\n",
    "trips = pd.read_csv('gtfs/trips.txt')\n",
    "\n",
    "# Print the type for trip_id in stop_times and trip_id in trips\n",
    "print(type(maastricht_stop_times['trip_id'].iloc[0]))\n",
    "print(type(trips['trip_id'].iloc[0]))\n",
    "\n",
    "# Keep the rows that contain a trip_id that is in the maastricht_stop_times dataframe\n",
    "maastricht_trips = trips[trips['trip_id'].isin(maastricht_stop_times['trip_id'])]"
   ],
   "metadata": {
    "collapsed": false,
    "ExecuteTime": {
     "end_time": "2024-05-20T20:39:30.684108Z",
     "start_time": "2024-05-20T20:39:29.754225Z"
    }
   }
  },
  {
   "cell_type": "code",
   "execution_count": 12,
   "outputs": [
    {
     "data": {
      "text/plain": "185736"
     },
     "execution_count": 12,
     "metadata": {},
     "output_type": "execute_result"
    }
   ],
   "source": [
    "maastricht_trips.size"
   ],
   "metadata": {
    "collapsed": false,
    "ExecuteTime": {
     "end_time": "2024-05-20T20:40:23.532745Z",
     "start_time": "2024-05-20T20:40:23.518593Z"
    }
   }
  },
  {
   "cell_type": "code",
   "execution_count": 13,
   "outputs": [
    {
     "name": "stdout",
     "output_type": "stream",
     "text": [
      "<class 'numpy.int64'>\n",
      "<class 'numpy.int64'>\n"
     ]
    }
   ],
   "source": [
    "# Load the routes.txt file\n",
    "routes = pd.read_csv('gtfs/routes.txt')\n",
    "\n",
    "# Print the type for route_id in maastricht_trips and route_id in routes\n",
    "print(type(maastricht_trips['route_id'].iloc[0]))\n",
    "print(type(routes['route_id'].iloc[0]))\n",
    "\n",
    "# Keep the rows that contain a route_id that is in the maastricht_trips dataframe\n",
    "maastricht_routes = routes[routes['route_id'].isin(maastricht_trips['route_id'])]"
   ],
   "metadata": {
    "collapsed": false,
    "ExecuteTime": {
     "end_time": "2024-05-20T20:40:27.293043Z",
     "start_time": "2024-05-20T20:40:27.241632Z"
    }
   }
  },
  {
   "cell_type": "code",
   "execution_count": 14,
   "outputs": [
    {
     "data": {
      "text/plain": "891"
     },
     "execution_count": 14,
     "metadata": {},
     "output_type": "execute_result"
    }
   ],
   "source": [
    "maastricht_routes.size"
   ],
   "metadata": {
    "collapsed": false,
    "ExecuteTime": {
     "end_time": "2024-05-20T20:40:34.154240Z",
     "start_time": "2024-05-20T20:40:34.144929Z"
    }
   }
  },
  {
   "cell_type": "code",
   "execution_count": 17,
   "outputs": [],
   "source": [
    "# Save the maastricht dataframes to csv files\n",
    "maastricht_stops.to_csv('maastricht_stops.csv', index=False)\n",
    "maastricht_stop_times.to_csv('maastricht_stop_times.csv', index=False)\n",
    "maastricht_trips.to_csv('maastricht_trips.csv', index=False)\n",
    "maastricht_routes.to_csv('maastricht_routes.csv', index=False)"
   ],
   "metadata": {
    "collapsed": false,
    "ExecuteTime": {
     "end_time": "2024-05-20T20:42:06.882639Z",
     "start_time": "2024-05-20T20:42:06.052358Z"
    }
   }
  },
  {
   "cell_type": "code",
   "execution_count": 16,
   "outputs": [
    {
     "name": "stdout",
     "output_type": "stream",
     "text": [
      "     stop_id stop_code                       stop_name   stop_lat  stop_lon  \\\n",
      "114  2511615       NaN                      Maastricht  50.850684  5.704599   \n",
      "464  2485741     44161  Maastricht, Koningin Emmaplein  50.849292  5.678235   \n",
      "570  2511622       NaN                Maastricht Noord  50.870569  5.717505   \n",
      "613  2511621       NaN                Maastricht Noord  50.870627  5.717754   \n",
      "896  2511623       NaN                Maastricht Noord  50.871752  5.716623   \n",
      "\n",
      "     location_type  parent_station stop_timezone  wheelchair_boarding  \\\n",
      "114              0  stoparea:17969           NaN                  NaN   \n",
      "464              0             NaN           NaN                  0.0   \n",
      "570              0  stoparea:30382           NaN                  NaN   \n",
      "613              0  stoparea:30382           NaN                  NaN   \n",
      "896              0  stoparea:30382           NaN                  NaN   \n",
      "\n",
      "    platform_code  zone_id  clean_stop_id  \n",
      "114           NaN   IFF:mt        2511615  \n",
      "464           NaN      NaN        2485741  \n",
      "570             2  IFF:mtn        2511622  \n",
      "613             1  IFF:mtn        2511621  \n",
      "896           NaN  IFF:mtn        2511623  \n"
     ]
    }
   ],
   "source": [],
   "metadata": {
    "collapsed": false,
    "ExecuteTime": {
     "end_time": "2024-05-20T20:41:59.570093Z",
     "start_time": "2024-05-20T20:41:59.559312Z"
    }
   }
  },
  {
   "cell_type": "code",
   "execution_count": null,
   "outputs": [],
   "source": [],
   "metadata": {
    "collapsed": false
   }
  }
 ],
 "metadata": {
  "kernelspec": {
   "display_name": "Python 3",
   "language": "python",
   "name": "python3"
  },
  "language_info": {
   "codemirror_mode": {
    "name": "ipython",
    "version": 2
   },
   "file_extension": ".py",
   "mimetype": "text/x-python",
   "name": "python",
   "nbconvert_exporter": "python",
   "pygments_lexer": "ipython2",
   "version": "2.7.6"
  }
 },
 "nbformat": 4,
 "nbformat_minor": 0
}
