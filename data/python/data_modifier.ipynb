{
 "cells": [
  {
   "cell_type": "code",
   "execution_count": 1,
   "metadata": {
    "collapsed": true,
    "ExecuteTime": {
     "end_time": "2024-05-28T11:04:12.409013Z",
     "start_time": "2024-05-28T11:04:10.838709Z"
    }
   },
   "outputs": [],
   "source": [
    "import pandas as pd"
   ]
  },
  {
   "cell_type": "code",
   "execution_count": 39,
   "outputs": [],
   "source": [
    "# Open the csv files for Maastricht GTFS\n",
    "stops = pd.read_csv('Maastricht GTFS/maastricht_stops.csv')\n",
    "stop_times = pd.read_csv('Maastricht GTFS/maastricht_stop_times.csv')\n",
    "trips = pd.read_csv('Maastricht GTFS/maastricht_trips.csv')\n",
    "routes = pd.read_csv('Maastricht GTFS/maastricht_routes.csv')"
   ],
   "metadata": {
    "collapsed": false,
    "ExecuteTime": {
     "end_time": "2024-05-21T12:45:29.797022Z",
     "start_time": "2024-05-21T12:45:29.620499Z"
    }
   }
  },
  {
   "cell_type": "code",
   "execution_count": 40,
   "outputs": [
    {
     "data": {
      "text/plain": "   stop_id stop_code                       stop_name   stop_lat  stop_lon  \\\n0  2511615       NaN                      Maastricht  50.850684  5.704599   \n1  2485741     44161  Maastricht, Koningin Emmaplein  50.849292  5.678235   \n2  2511622       NaN                Maastricht Noord  50.870569  5.717505   \n3  2511621       NaN                Maastricht Noord  50.870627  5.717754   \n4  2511623       NaN                Maastricht Noord  50.871752  5.716623   \n\n   location_type  parent_station stop_timezone  wheelchair_boarding  \\\n0              0  stoparea:17969           NaN                  NaN   \n1              0             NaN           NaN                  0.0   \n2              0  stoparea:30382           NaN                  NaN   \n3              0  stoparea:30382           NaN                  NaN   \n4              0  stoparea:30382           NaN                  NaN   \n\n  platform_code  zone_id  clean_stop_id  \n0           NaN   IFF:mt        2511615  \n1           NaN      NaN        2485741  \n2             2  IFF:mtn        2511622  \n3             1  IFF:mtn        2511621  \n4           NaN  IFF:mtn        2511623  ",
      "text/html": "<div>\n<style scoped>\n    .dataframe tbody tr th:only-of-type {\n        vertical-align: middle;\n    }\n\n    .dataframe tbody tr th {\n        vertical-align: top;\n    }\n\n    .dataframe thead th {\n        text-align: right;\n    }\n</style>\n<table border=\"1\" class=\"dataframe\">\n  <thead>\n    <tr style=\"text-align: right;\">\n      <th></th>\n      <th>stop_id</th>\n      <th>stop_code</th>\n      <th>stop_name</th>\n      <th>stop_lat</th>\n      <th>stop_lon</th>\n      <th>location_type</th>\n      <th>parent_station</th>\n      <th>stop_timezone</th>\n      <th>wheelchair_boarding</th>\n      <th>platform_code</th>\n      <th>zone_id</th>\n      <th>clean_stop_id</th>\n    </tr>\n  </thead>\n  <tbody>\n    <tr>\n      <th>0</th>\n      <td>2511615</td>\n      <td>NaN</td>\n      <td>Maastricht</td>\n      <td>50.850684</td>\n      <td>5.704599</td>\n      <td>0</td>\n      <td>stoparea:17969</td>\n      <td>NaN</td>\n      <td>NaN</td>\n      <td>NaN</td>\n      <td>IFF:mt</td>\n      <td>2511615</td>\n    </tr>\n    <tr>\n      <th>1</th>\n      <td>2485741</td>\n      <td>44161</td>\n      <td>Maastricht, Koningin Emmaplein</td>\n      <td>50.849292</td>\n      <td>5.678235</td>\n      <td>0</td>\n      <td>NaN</td>\n      <td>NaN</td>\n      <td>0.0</td>\n      <td>NaN</td>\n      <td>NaN</td>\n      <td>2485741</td>\n    </tr>\n    <tr>\n      <th>2</th>\n      <td>2511622</td>\n      <td>NaN</td>\n      <td>Maastricht Noord</td>\n      <td>50.870569</td>\n      <td>5.717505</td>\n      <td>0</td>\n      <td>stoparea:30382</td>\n      <td>NaN</td>\n      <td>NaN</td>\n      <td>2</td>\n      <td>IFF:mtn</td>\n      <td>2511622</td>\n    </tr>\n    <tr>\n      <th>3</th>\n      <td>2511621</td>\n      <td>NaN</td>\n      <td>Maastricht Noord</td>\n      <td>50.870627</td>\n      <td>5.717754</td>\n      <td>0</td>\n      <td>stoparea:30382</td>\n      <td>NaN</td>\n      <td>NaN</td>\n      <td>1</td>\n      <td>IFF:mtn</td>\n      <td>2511621</td>\n    </tr>\n    <tr>\n      <th>4</th>\n      <td>2511623</td>\n      <td>NaN</td>\n      <td>Maastricht Noord</td>\n      <td>50.871752</td>\n      <td>5.716623</td>\n      <td>0</td>\n      <td>stoparea:30382</td>\n      <td>NaN</td>\n      <td>NaN</td>\n      <td>NaN</td>\n      <td>IFF:mtn</td>\n      <td>2511623</td>\n    </tr>\n  </tbody>\n</table>\n</div>"
     },
     "execution_count": 40,
     "metadata": {},
     "output_type": "execute_result"
    }
   ],
   "source": [
    "stops.head()"
   ],
   "metadata": {
    "collapsed": false,
    "ExecuteTime": {
     "end_time": "2024-05-21T12:45:30.011168Z",
     "start_time": "2024-05-21T12:45:30.005903Z"
    }
   }
  },
  {
   "cell_type": "code",
   "execution_count": 63,
   "outputs": [],
   "source": [
    "#remove any stoparea: from parent_station column\n",
    "stops['parent_station'] = stops['parent_station'].str.replace('stoparea:', '')\n",
    "stops['stop_id'] = stops['stop_id'].str.replace('stoparea:', '')"
   ],
   "metadata": {
    "collapsed": false,
    "ExecuteTime": {
     "end_time": "2024-05-21T12:47:49.011122Z",
     "start_time": "2024-05-21T12:47:48.996427Z"
    }
   }
  },
  {
   "cell_type": "code",
   "execution_count": 64,
   "outputs": [
    {
     "data": {
      "text/plain": "   stop_id stop_code                       stop_name   stop_lat  stop_lon  \\\n0  2511615       NaN                      Maastricht  50.850684  5.704599   \n1  2485741     44161  Maastricht, Koningin Emmaplein  50.849292  5.678235   \n2  2511622       NaN                Maastricht Noord  50.870569  5.717505   \n3  2511621       NaN                Maastricht Noord  50.870627  5.717754   \n4  2511623       NaN                Maastricht Noord  50.871752  5.716623   \n\n   location_type parent_station stop_timezone  wheelchair_boarding  \\\n0              0          17969           NaN                  NaN   \n1              0            NaN           NaN                  0.0   \n2              0          30382           NaN                  NaN   \n3              0          30382           NaN                  NaN   \n4              0          30382           NaN                  NaN   \n\n  platform_code  zone_id  clean_stop_id  \n0           NaN   IFF:mt        2511615  \n1           NaN      NaN        2485741  \n2             2  IFF:mtn        2511622  \n3             1  IFF:mtn        2511621  \n4           NaN  IFF:mtn        2511623  ",
      "text/html": "<div>\n<style scoped>\n    .dataframe tbody tr th:only-of-type {\n        vertical-align: middle;\n    }\n\n    .dataframe tbody tr th {\n        vertical-align: top;\n    }\n\n    .dataframe thead th {\n        text-align: right;\n    }\n</style>\n<table border=\"1\" class=\"dataframe\">\n  <thead>\n    <tr style=\"text-align: right;\">\n      <th></th>\n      <th>stop_id</th>\n      <th>stop_code</th>\n      <th>stop_name</th>\n      <th>stop_lat</th>\n      <th>stop_lon</th>\n      <th>location_type</th>\n      <th>parent_station</th>\n      <th>stop_timezone</th>\n      <th>wheelchair_boarding</th>\n      <th>platform_code</th>\n      <th>zone_id</th>\n      <th>clean_stop_id</th>\n    </tr>\n  </thead>\n  <tbody>\n    <tr>\n      <th>0</th>\n      <td>2511615</td>\n      <td>NaN</td>\n      <td>Maastricht</td>\n      <td>50.850684</td>\n      <td>5.704599</td>\n      <td>0</td>\n      <td>17969</td>\n      <td>NaN</td>\n      <td>NaN</td>\n      <td>NaN</td>\n      <td>IFF:mt</td>\n      <td>2511615</td>\n    </tr>\n    <tr>\n      <th>1</th>\n      <td>2485741</td>\n      <td>44161</td>\n      <td>Maastricht, Koningin Emmaplein</td>\n      <td>50.849292</td>\n      <td>5.678235</td>\n      <td>0</td>\n      <td>NaN</td>\n      <td>NaN</td>\n      <td>0.0</td>\n      <td>NaN</td>\n      <td>NaN</td>\n      <td>2485741</td>\n    </tr>\n    <tr>\n      <th>2</th>\n      <td>2511622</td>\n      <td>NaN</td>\n      <td>Maastricht Noord</td>\n      <td>50.870569</td>\n      <td>5.717505</td>\n      <td>0</td>\n      <td>30382</td>\n      <td>NaN</td>\n      <td>NaN</td>\n      <td>2</td>\n      <td>IFF:mtn</td>\n      <td>2511622</td>\n    </tr>\n    <tr>\n      <th>3</th>\n      <td>2511621</td>\n      <td>NaN</td>\n      <td>Maastricht Noord</td>\n      <td>50.870627</td>\n      <td>5.717754</td>\n      <td>0</td>\n      <td>30382</td>\n      <td>NaN</td>\n      <td>NaN</td>\n      <td>1</td>\n      <td>IFF:mtn</td>\n      <td>2511621</td>\n    </tr>\n    <tr>\n      <th>4</th>\n      <td>2511623</td>\n      <td>NaN</td>\n      <td>Maastricht Noord</td>\n      <td>50.871752</td>\n      <td>5.716623</td>\n      <td>0</td>\n      <td>30382</td>\n      <td>NaN</td>\n      <td>NaN</td>\n      <td>NaN</td>\n      <td>IFF:mtn</td>\n      <td>2511623</td>\n    </tr>\n  </tbody>\n</table>\n</div>"
     },
     "execution_count": 64,
     "metadata": {},
     "output_type": "execute_result"
    }
   ],
   "source": [
    "stops.head()"
   ],
   "metadata": {
    "collapsed": false,
    "ExecuteTime": {
     "end_time": "2024-05-21T12:47:50.246887Z",
     "start_time": "2024-05-21T12:47:50.201788Z"
    }
   }
  },
  {
   "cell_type": "code",
   "execution_count": 65,
   "outputs": [
    {
     "data": {
      "text/plain": "6504"
     },
     "execution_count": 65,
     "metadata": {},
     "output_type": "execute_result"
    }
   ],
   "source": [
    "stops.size"
   ],
   "metadata": {
    "collapsed": false,
    "ExecuteTime": {
     "end_time": "2024-05-21T12:47:51.759739Z",
     "start_time": "2024-05-21T12:47:51.704290Z"
    }
   }
  },
  {
   "cell_type": "code",
   "execution_count": 66,
   "outputs": [],
   "source": [
    "# Remove any rows that do not contain Maastricht\n",
    "stops = stops[stops['stop_name'].str.contains('Maastricht')]"
   ],
   "metadata": {
    "collapsed": false,
    "ExecuteTime": {
     "end_time": "2024-05-21T12:47:52.521269Z",
     "start_time": "2024-05-21T12:47:52.518065Z"
    }
   }
  },
  {
   "cell_type": "code",
   "execution_count": 67,
   "outputs": [
    {
     "data": {
      "text/plain": "6504"
     },
     "execution_count": 67,
     "metadata": {},
     "output_type": "execute_result"
    }
   ],
   "source": [
    "stops.size"
   ],
   "metadata": {
    "collapsed": false,
    "ExecuteTime": {
     "end_time": "2024-05-21T12:47:52.836796Z",
     "start_time": "2024-05-21T12:47:52.831232Z"
    }
   }
  },
  {
   "cell_type": "code",
   "execution_count": 68,
   "outputs": [
    {
     "data": {
      "text/plain": "     trip_id  stop_sequence  stop_id stop_headsign arrival_time  \\\n0  178417226             15  2577737           NaN     22:07:00   \n1  178417098             15  2577737           NaN     06:24:00   \n2  178417123             15  2577737           NaN     08:24:00   \n3  178417290             15  2577737           NaN     16:24:00   \n4  178417213             15  2577737           NaN     18:24:00   \n\n  departure_time  pickup_type  drop_off_type  timepoint  shape_dist_traveled  \\\n0       22:07:00            0              0          0               7048.0   \n1       06:24:00            0              0          0               7048.0   \n2       08:24:00            0              0          0               7048.0   \n3       16:24:00            0              0          0               7048.0   \n4       18:24:00            0              0          0               7048.0   \n\n   fare_units_traveled  \n0                 7046  \n1                 7046  \n2                 7046  \n3                 7046  \n4                 7046  ",
      "text/html": "<div>\n<style scoped>\n    .dataframe tbody tr th:only-of-type {\n        vertical-align: middle;\n    }\n\n    .dataframe tbody tr th {\n        vertical-align: top;\n    }\n\n    .dataframe thead th {\n        text-align: right;\n    }\n</style>\n<table border=\"1\" class=\"dataframe\">\n  <thead>\n    <tr style=\"text-align: right;\">\n      <th></th>\n      <th>trip_id</th>\n      <th>stop_sequence</th>\n      <th>stop_id</th>\n      <th>stop_headsign</th>\n      <th>arrival_time</th>\n      <th>departure_time</th>\n      <th>pickup_type</th>\n      <th>drop_off_type</th>\n      <th>timepoint</th>\n      <th>shape_dist_traveled</th>\n      <th>fare_units_traveled</th>\n    </tr>\n  </thead>\n  <tbody>\n    <tr>\n      <th>0</th>\n      <td>178417226</td>\n      <td>15</td>\n      <td>2577737</td>\n      <td>NaN</td>\n      <td>22:07:00</td>\n      <td>22:07:00</td>\n      <td>0</td>\n      <td>0</td>\n      <td>0</td>\n      <td>7048.0</td>\n      <td>7046</td>\n    </tr>\n    <tr>\n      <th>1</th>\n      <td>178417098</td>\n      <td>15</td>\n      <td>2577737</td>\n      <td>NaN</td>\n      <td>06:24:00</td>\n      <td>06:24:00</td>\n      <td>0</td>\n      <td>0</td>\n      <td>0</td>\n      <td>7048.0</td>\n      <td>7046</td>\n    </tr>\n    <tr>\n      <th>2</th>\n      <td>178417123</td>\n      <td>15</td>\n      <td>2577737</td>\n      <td>NaN</td>\n      <td>08:24:00</td>\n      <td>08:24:00</td>\n      <td>0</td>\n      <td>0</td>\n      <td>0</td>\n      <td>7048.0</td>\n      <td>7046</td>\n    </tr>\n    <tr>\n      <th>3</th>\n      <td>178417290</td>\n      <td>15</td>\n      <td>2577737</td>\n      <td>NaN</td>\n      <td>16:24:00</td>\n      <td>16:24:00</td>\n      <td>0</td>\n      <td>0</td>\n      <td>0</td>\n      <td>7048.0</td>\n      <td>7046</td>\n    </tr>\n    <tr>\n      <th>4</th>\n      <td>178417213</td>\n      <td>15</td>\n      <td>2577737</td>\n      <td>NaN</td>\n      <td>18:24:00</td>\n      <td>18:24:00</td>\n      <td>0</td>\n      <td>0</td>\n      <td>0</td>\n      <td>7048.0</td>\n      <td>7046</td>\n    </tr>\n  </tbody>\n</table>\n</div>"
     },
     "execution_count": 68,
     "metadata": {},
     "output_type": "execute_result"
    }
   ],
   "source": [
    "stop_times.head()"
   ],
   "metadata": {
    "collapsed": false,
    "ExecuteTime": {
     "end_time": "2024-05-21T12:47:53.248299Z",
     "start_time": "2024-05-21T12:47:53.231420Z"
    }
   }
  },
  {
   "cell_type": "code",
   "execution_count": 71,
   "outputs": [
    {
     "name": "stdout",
     "output_type": "stream",
     "text": [
      "int64\n",
      "object\n"
     ]
    }
   ],
   "source": [
    "# Print the types for stop_times['stop_id'] and stops['stop_id']\n",
    "print(stop_times['stop_id'].dtypes)\n",
    "print(stops['stop_id'].dtypes)"
   ],
   "metadata": {
    "collapsed": false,
    "ExecuteTime": {
     "end_time": "2024-05-21T12:48:06.365132Z",
     "start_time": "2024-05-21T12:48:06.353279Z"
    }
   }
  },
  {
   "cell_type": "code",
   "execution_count": 72,
   "outputs": [],
   "source": [
    "# Convert the stop_id in stops to a int64\n",
    "stops['stop_id'] = stops['stop_id'].astype('int64')"
   ],
   "metadata": {
    "collapsed": false,
    "ExecuteTime": {
     "end_time": "2024-05-21T12:48:07.399905Z",
     "start_time": "2024-05-21T12:48:07.390038Z"
    }
   }
  },
  {
   "cell_type": "code",
   "execution_count": 73,
   "outputs": [
    {
     "name": "stdout",
     "output_type": "stream",
     "text": [
      "int64\n",
      "int64\n"
     ]
    }
   ],
   "source": [
    "# Print the types for stop_times['stop_id'] and stops['stop_id']\n",
    "print(stop_times['stop_id'].dtypes)\n",
    "print(stops['stop_id'].dtypes)"
   ],
   "metadata": {
    "collapsed": false,
    "ExecuteTime": {
     "end_time": "2024-05-21T12:48:09.997042Z",
     "start_time": "2024-05-21T12:48:09.990126Z"
    }
   }
  },
  {
   "cell_type": "code",
   "execution_count": 74,
   "outputs": [],
   "source": [
    "# Only keep stop_times that are in stops\n",
    "stop_times = stop_times[stop_times['stop_id'].isin(stops['stop_id'])]"
   ],
   "metadata": {
    "collapsed": false,
    "ExecuteTime": {
     "end_time": "2024-05-21T12:48:14.175618Z",
     "start_time": "2024-05-21T12:48:14.131851Z"
    }
   }
  },
  {
   "cell_type": "code",
   "execution_count": 75,
   "outputs": [
    {
     "data": {
      "text/plain": "1161699"
     },
     "execution_count": 75,
     "metadata": {},
     "output_type": "execute_result"
    }
   ],
   "source": [
    "stop_times.size"
   ],
   "metadata": {
    "collapsed": false,
    "ExecuteTime": {
     "end_time": "2024-05-21T12:48:14.540857Z",
     "start_time": "2024-05-21T12:48:14.533453Z"
    }
   }
  },
  {
   "cell_type": "code",
   "execution_count": 76,
   "outputs": [],
   "source": [
    "# Only keep trips that are in stop_times\n",
    "trips = trips[trips['trip_id'].isin(stop_times['trip_id'])]"
   ],
   "metadata": {
    "collapsed": false,
    "ExecuteTime": {
     "end_time": "2024-05-21T12:49:42.267732Z",
     "start_time": "2024-05-21T12:49:42.257465Z"
    }
   }
  },
  {
   "cell_type": "code",
   "execution_count": 77,
   "outputs": [
    {
     "data": {
      "text/plain": "185736"
     },
     "execution_count": 77,
     "metadata": {},
     "output_type": "execute_result"
    }
   ],
   "source": [
    "trips.size"
   ],
   "metadata": {
    "collapsed": false,
    "ExecuteTime": {
     "end_time": "2024-05-21T12:49:44.894392Z",
     "start_time": "2024-05-21T12:49:44.874413Z"
    }
   }
  },
  {
   "cell_type": "code",
   "execution_count": 78,
   "outputs": [],
   "source": [
    "# Only keep routes that are in trips\n",
    "routes = routes[routes['route_id'].isin(trips['route_id'])]\n"
   ],
   "metadata": {
    "collapsed": false,
    "ExecuteTime": {
     "end_time": "2024-05-21T12:50:00.627267Z",
     "start_time": "2024-05-21T12:50:00.608067Z"
    }
   }
  },
  {
   "cell_type": "code",
   "execution_count": 79,
   "outputs": [
    {
     "data": {
      "text/plain": "891"
     },
     "execution_count": 79,
     "metadata": {},
     "output_type": "execute_result"
    }
   ],
   "source": [
    "routes.size"
   ],
   "metadata": {
    "collapsed": false,
    "ExecuteTime": {
     "end_time": "2024-05-21T12:50:05.328063Z",
     "start_time": "2024-05-21T12:50:05.300495Z"
    }
   }
  },
  {
   "cell_type": "code",
   "execution_count": 80,
   "outputs": [],
   "source": [
    "# Save the cleaned dataframes to csv files\n",
    "stops.to_csv('Maastricht GTFS/maastricht_stops_cleaned.csv', index=False)\n",
    "stop_times.to_csv('Maastricht GTFS/maastricht_stop_times_cleaned.csv', index=False)\n",
    "trips.to_csv('Maastricht GTFS/maastricht_trips_cleaned.csv', index=False)\n",
    "routes.to_csv('Maastricht GTFS/maastricht_routes_cleaned.csv', index=False)"
   ],
   "metadata": {
    "collapsed": false,
    "ExecuteTime": {
     "end_time": "2024-05-21T12:50:23.879328Z",
     "start_time": "2024-05-21T12:50:22.982933Z"
    }
   }
  },
  {
   "cell_type": "code",
   "execution_count": 2,
   "outputs": [],
   "source": [
    "stops = pd.read_csv('Maastricht GTFS/maastricht_stops_cleaned.csv')\n",
    "stop_times = pd.read_csv('Maastricht GTFS/maastricht_stop_times_cleaned.csv')\n",
    "trips = pd.read_csv('Maastricht GTFS/maastricht_trips_cleaned.csv')\n",
    "routes = pd.read_csv('Maastricht GTFS/maastricht_routes_cleaned.csv')"
   ],
   "metadata": {
    "collapsed": false,
    "ExecuteTime": {
     "end_time": "2024-05-28T11:04:12.558133Z",
     "start_time": "2024-05-28T11:04:12.410965Z"
    }
   }
  },
  {
   "cell_type": "code",
   "execution_count": null,
   "outputs": [],
   "source": [
    "# Remove trips that "
   ],
   "metadata": {
    "collapsed": false
   }
  }
 ],
 "metadata": {
  "kernelspec": {
   "display_name": "Python 3",
   "language": "python",
   "name": "python3"
  },
  "language_info": {
   "codemirror_mode": {
    "name": "ipython",
    "version": 2
   },
   "file_extension": ".py",
   "mimetype": "text/x-python",
   "name": "python",
   "nbconvert_exporter": "python",
   "pygments_lexer": "ipython2",
   "version": "2.7.6"
  }
 },
 "nbformat": 4,
 "nbformat_minor": 0
}
